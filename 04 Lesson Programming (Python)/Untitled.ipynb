{
 "cells": [
  {
   "cell_type": "code",
   "execution_count": 1,
   "metadata": {},
   "outputs": [
    {
     "data": {
      "text/plain": [
       "' THEHEHEHEHE\\n\\nTHERHEHEHEH\\n\\nRHHRHRHRHRHR  '"
      ]
     },
     "execution_count": 1,
     "metadata": {},
     "output_type": "execute_result"
    }
   ],
   "source": [
    "# HEY THERE MY FIRST PYTHON COMMENT \n",
    "\n",
    "\n",
    "\n",
    "\"\"\" THEHEHEHEHE\n",
    "\n",
    "THERHEHEHEH\n",
    "\n",
    "RHHRHRHRHRHR  \"\"\""
   ]
  },
  {
   "cell_type": "code",
   "execution_count": 7,
   "metadata": {},
   "outputs": [],
   "source": [
    "numberOne =1\n",
    "numberTwoshdddhbjhddjbjd =2\n",
    "\n",
    "\n"
   ]
  },
  {
   "cell_type": "code",
   "execution_count": 8,
   "metadata": {},
   "outputs": [
    {
     "data": {
      "text/plain": [
       "3"
      ]
     },
     "execution_count": 8,
     "metadata": {},
     "output_type": "execute_result"
    }
   ],
   "source": [
    "numberOne+numberTwoshdddhbjhddjbjd"
   ]
  },
  {
   "cell_type": "code",
   "execution_count": 9,
   "metadata": {},
   "outputs": [],
   "source": [
    "y =1+8\n"
   ]
  },
  {
   "cell_type": "code",
   "execution_count": 10,
   "metadata": {},
   "outputs": [
    {
     "data": {
      "text/plain": [
       "9"
      ]
     },
     "execution_count": 10,
     "metadata": {},
     "output_type": "execute_result"
    }
   ],
   "source": [
    "y"
   ]
  },
  {
   "cell_type": "code",
   "execution_count": null,
   "metadata": {},
   "outputs": [],
   "source": [
    "Email_address='john@ads.com'\n",
    "password=12334455566"
   ]
  },
  {
   "cell_type": "code",
   "execution_count": 13,
   "metadata": {},
   "outputs": [
    {
     "name": "stdout",
     "output_type": "stream",
     "text": [
      "Hello, my name isWizkidand I am 221\n"
     ]
    }
   ],
   "source": [
    "#string \n",
    "name = 'Wizkid'\n",
    "#int \n",
    "age = 21\n",
    "\n",
    "# Hello, my name is Wizkid and I am 21\n",
    "\n",
    "\n",
    "print('Hello, my name is' + name + 'and I am 2' + str(age))"
   ]
  },
  {
   "cell_type": "code",
   "execution_count": 14,
   "metadata": {},
   "outputs": [
    {
     "data": {
      "text/plain": [
       "68"
      ]
     },
     "execution_count": 14,
     "metadata": {},
     "output_type": "execute_result"
    }
   ],
   "source": [
    "\n",
    "s = 'helloworldfsdfhsdjfsdjfvsdjfvsdjfvdvjsdjfvnsdjkfvndscfnsdcfnsdfjkcfd'\n",
    "\n",
    "len(s)"
   ]
  },
  {
   "cell_type": "code",
   "execution_count": null,
   "metadata": {},
   "outputs": [],
   "source": [
    "databaseuser=user"
   ]
  },
  {
   "cell_type": "code",
   "execution_count": null,
   "metadata": {},
   "outputs": [],
   "source": [
    "person={'Email_address': 'Martha', 'age': 30,'city':'Cape tOWN','password'}"
   ]
  },
  {
   "cell_type": "code",
   "execution_count": null,
   "metadata": {},
   "outputs": [],
   "source": [
    "if Email_address  and password is True :\n",
    "    'accessdasboard'\n",
    "else:\n",
    "    print('Your request failed. Please try again.')\n",
    "\n",
    "    \n",
    "   "
   ]
  },
  {
   "cell_type": "code",
   "execution_count": 16,
   "metadata": {},
   "outputs": [
    {
     "name": "stdout",
     "output_type": "stream",
     "text": [
      "10 is greater than 5\n"
     ]
    }
   ],
   "source": [
    "#if/else\n",
    "\n",
    "x=10\n",
    "y=5\n",
    "if x > y:\n",
    "  print(f'{x} is greater than {y}')\n",
    "else:\n",
    "  print(f'{y} is greater than {x}')"
   ]
  },
  {
   "cell_type": "code",
   "execution_count": 21,
   "metadata": {},
   "outputs": [
    {
     "ename": "IndentationError",
     "evalue": "expected an indented block (<ipython-input-21-a0d24521ada0>, line 2)",
     "output_type": "error",
     "traceback": [
      "\u001b[1;36m  File \u001b[1;32m\"<ipython-input-21-a0d24521ada0>\"\u001b[1;36m, line \u001b[1;32m2\u001b[0m\n\u001b[1;33m    answer =no1+no2\u001b[0m\n\u001b[1;37m    ^\u001b[0m\n\u001b[1;31mIndentationError\u001b[0m\u001b[1;31m:\u001b[0m expected an indented block\n"
     ]
    }
   ],
   "source": [
    "def add2numbers(no1,no2):\n",
    "    answer =no1+no2\n",
    "    print(answer)\n",
    "  "
   ]
  },
  {
   "cell_type": "code",
   "execution_count": 22,
   "metadata": {},
   "outputs": [
    {
     "name": "stdout",
     "output_type": "stream",
     "text": [
      "11\n"
     ]
    }
   ],
   "source": [
    "add2numbers(5,6)"
   ]
  },
  {
   "cell_type": "code",
   "execution_count": null,
   "metadata": {},
   "outputs": [],
   "source": [
    "5+6\n",
    "7"
   ]
  },
  {
   "cell_type": "code",
   "execution_count": null,
   "metadata": {},
   "outputs": [],
   "source": [
    "math \n",
    "# sum of 2 nuber \n",
    "def getSum(num1, num2):\n",
    "    total = num1 + num2\n",
    "    return total\n",
    "\n",
    "\n",
    "def square(num):\n",
    "    \"\"\"\n",
    "    function to  square a number \n",
    "    \"\"\"\n",
    "    #return num**2\n",
    "    print(num**2)\n",
    "\n",
    "\n"
   ]
  },
  {
   "cell_type": "code",
   "execution_count": null,
   "metadata": {},
   "outputs": [],
   "source": [
    "from math import  getSum\n",
    "\n",
    "\n",
    "getSum(1+2)"
   ]
  }
 ],
 "metadata": {
  "kernelspec": {
   "display_name": "Python 3",
   "language": "python",
   "name": "python3"
  },
  "language_info": {
   "codemirror_mode": {
    "name": "ipython",
    "version": 3
   },
   "file_extension": ".py",
   "mimetype": "text/x-python",
   "name": "python",
   "nbconvert_exporter": "python",
   "pygments_lexer": "ipython3",
   "version": "3.8.5"
  }
 },
 "nbformat": 4,
 "nbformat_minor": 4
}
